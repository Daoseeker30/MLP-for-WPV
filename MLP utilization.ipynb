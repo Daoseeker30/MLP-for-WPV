{
 "cells": [
  {
   "cell_type": "code",
   "execution_count": null,
   "id": "5cf7b185-03b7-46d5-a671-c2b08bf38c0d",
   "metadata": {},
   "outputs": [],
   "source": [
    "import pandas as pd\n",
    "import numpy as np\n",
    "import pickle\n",
    "from sklearn.datasets import load_iris\n",
    "from sklearn.model_selection import train_test_split\n",
    "from sklearn.preprocessing import StandardScaler, OneHotEncoder\n",
    "from sklearn.neural_network import MLPClassifier\n",
    "from sklearn.metrics import accuracy_score"
   ]
  },
  {
   "cell_type": "code",
   "execution_count": null,
   "id": "19932a0f-a464-4870-8c12-581eb8bd2f2f",
   "metadata": {},
   "outputs": [],
   "source": [
    "with open('location/mlp_param.pkl', 'rb') as f:\n",
    "    model = pickle.load(f)"
   ]
  },
  {
   "cell_type": "code",
   "execution_count": null,
   "id": "89bef8c5-de52-4568-b819-128d825bddc0",
   "metadata": {},
   "outputs": [],
   "source": [
    "outcome_pred = model.predict(net_t)"
   ]
  },
  {
   "cell_type": "code",
   "execution_count": null,
   "id": "83d32b4e-2aae-4d69-bd4b-ddb8e0b6aba6",
   "metadata": {},
   "outputs": [],
   "source": [
    "print(outcome_pred)"
   ]
  },
  {
   "cell_type": "code",
   "execution_count": null,
   "id": "1acfee10-4fbb-4ed3-8884-b48364300bf3",
   "metadata": {},
   "outputs": [],
   "source": [
    "outcome_pred = pd.DataFrame(outcome_pred.T)\n",
    "outcome_pred.to_csv('~/output_t.csv', index=False)"
   ]
  }
 ],
 "metadata": {
  "kernelspec": {
   "display_name": "Python 3 (ipykernel)",
   "language": "python",
   "name": "python3"
  },
  "language_info": {
   "codemirror_mode": {
    "name": "ipython",
    "version": 3
   },
   "file_extension": ".py",
   "mimetype": "text/x-python",
   "name": "python",
   "nbconvert_exporter": "python",
   "pygments_lexer": "ipython3",
   "version": "3.9.19"
  }
 },
 "nbformat": 4,
 "nbformat_minor": 5
}
