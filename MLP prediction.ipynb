{
 "cells": [
  {
   "cell_type": "code",
   "execution_count": null,
   "id": "81fb867b-3ec8-48bb-a927-c73082764a45",
   "metadata": {},
   "outputs": [],
   "source": [
    "import pandas as pd\n",
    "import joblib\n",
    "\n",
    "# 1. Read the MLP model\n",
    "mlp_model = joblib.load('...')\n",
    "\n",
    "# 2. Read new data\n",
    "new_data = pd.read_csv('...')\n",
    "\n",
    "# 3. Prediction\n",
    "predicted_labels = mlp_model.predict(new_data)\n",
    "\n",
    "# 4. Probability\n",
    "predicted_probabilities = mlp_model.predict_proba(new_data)[:, 1]\n",
    "\n",
    "# 5. Outcomes\n",
    "results_df = new_data.copy()\n",
    "results_df['predicted_label'] = predicted_labels\n",
    "results_df['predicted_probability'] = predicted_probabilities\n",
    "\n",
    "# 6. Save as .csv\n",
    "results_df.to_csv('...', index=False)"
   ]
  }
 ],
 "metadata": {
  "kernelspec": {
   "display_name": "Python 3 (ipykernel)",
   "language": "python",
   "name": "python3"
  },
  "language_info": {
   "codemirror_mode": {
    "name": "ipython",
    "version": 3
   },
   "file_extension": ".py",
   "mimetype": "text/x-python",
   "name": "python",
   "nbconvert_exporter": "python",
   "pygments_lexer": "ipython3",
   "version": "3.9.19"
  }
 },
 "nbformat": 4,
 "nbformat_minor": 5
}
